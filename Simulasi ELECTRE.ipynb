{
 "cells": [
  {
   "cell_type": "markdown",
   "id": "aea691db",
   "metadata": {},
   "source": [
    "## <div align=\"center\"> SIMULASI MULTI CRITERIA DECISION MAKING : ELECTRE </div>\n",
    "## <div align=\"center\"> LAPORAN AKHIR IF541 - EXPERT SYSTEM </div>\n",
    "### <div align=\"center\"> GROUP B </div>\n",
    "\n",
    "\n",
    "<h2 style=\"text-align:center\"><i>\"Sistem Pemilihan Beasiswa Bantuan Universitas dengan ELECTRE\"</i></h2>\n",
    "\n",
    "<h2>Anggota Kelompok :</h2>\n",
    "<ul>\n",
    "    <li>Farrel Dinarta / 00000055702</li>\n",
    "    <li>Farrel Dinarta / 00000055702</li>\n",
    "    <li>Farrel Dinarta / 00000055702</li>\n",
    "    <li>Farrel Dinarta / 00000055702</li>    \n",
    "<ul>\n"
   ]
  },
  {
   "cell_type": "markdown",
   "id": "71945f1b",
   "metadata": {},
   "source": [
    "### Import Libraries"
   ]
  },
  {
   "cell_type": "code",
   "execution_count": 375,
   "id": "398a965e",
   "metadata": {},
   "outputs": [],
   "source": [
    "import numpy as np\n",
    "import pandas as pd\n",
    "import math"
   ]
  },
  {
   "cell_type": "markdown",
   "id": "ea9fff1b",
   "metadata": {},
   "source": [
    "### Import Candidate Data"
   ]
  },
  {
   "cell_type": "code",
   "execution_count": 376,
   "id": "dbde1f1c",
   "metadata": {},
   "outputs": [],
   "source": [
    "try:\n",
    "    data = pd.read_csv(\"candidate_data.csv\")\n",
    "except FileNotFoundError as e:\n",
    "    print(\"File not found.\")"
   ]
  },
  {
   "cell_type": "markdown",
   "id": "e6292f52",
   "metadata": {},
   "source": [
    "### Preprocessing\n",
    "- First row is reserved specifically for criteria weight\n",
    "- First row will be removed after separating it from the original dataset\n",
    "- Second row is reserved specifically to determine whether a label is `benefit` or `cost` attribute.\n",
    "- Second row will be removed after separating it from the original dataset."
   ]
  },
  {
   "cell_type": "code",
   "execution_count": 377,
   "id": "ed5f46f7",
   "metadata": {},
   "outputs": [],
   "source": [
    "criteria_weights = data.iloc[0]\n",
    "criteria_types = data.iloc[1]\n",
    "data = data.iloc[2:]"
   ]
  },
  {
   "cell_type": "markdown",
   "id": "61b9a7f8",
   "metadata": {},
   "source": [
    "### Get Criterias"
   ]
  },
  {
   "cell_type": "code",
   "execution_count": 378,
   "id": "9589df65",
   "metadata": {},
   "outputs": [
    {
     "data": {
      "text/plain": [
       "Index(['ipk', 'pendapatan_orang_tua', 'biaya_hidup', 'prestasi', 'keaktifan'], dtype='object')"
      ]
     },
     "execution_count": 378,
     "metadata": {},
     "output_type": "execute_result"
    }
   ],
   "source": [
    "data.columns"
   ]
  },
  {
   "cell_type": "markdown",
   "id": "eb569e07",
   "metadata": {},
   "source": [
    "### Get Criteria Types"
   ]
  },
  {
   "cell_type": "code",
   "execution_count": 379,
   "id": "d3be93f2",
   "metadata": {},
   "outputs": [
    {
     "name": "stdout",
     "output_type": "stream",
     "text": [
      "ipk                     b\n",
      "pendapatan_orang_tua    c\n",
      "biaya_hidup             b\n",
      "prestasi                b\n",
      "keaktifan               b\n",
      "Name: 1, dtype: object\n"
     ]
    }
   ],
   "source": [
    "types = np.unique(criteria_types)\n",
    "if np.any(types == np.array(['b', 'c'])):\n",
    "    print(criteria_types)\n",
    "else:\n",
    "    raise ValueError(\"Invalid criteria type.\")"
   ]
  },
  {
   "cell_type": "markdown",
   "id": "dd5cc09f",
   "metadata": {},
   "source": [
    "### Get Criteria Weights"
   ]
  },
  {
   "cell_type": "code",
   "execution_count": 380,
   "id": "5f328722",
   "metadata": {},
   "outputs": [
    {
     "data": {
      "text/plain": [
       "{'ipk': 0.3,\n",
       " 'pendapatan_orang_tua': 0.3,\n",
       " 'biaya_hidup': 0.15,\n",
       " 'prestasi': 0.15,\n",
       " 'keaktifan': 0.1}"
      ]
     },
     "execution_count": 380,
     "metadata": {},
     "output_type": "execute_result"
    }
   ],
   "source": [
    "# scale the weights to span only from 0 - 1\n",
    "criteria_weights = {key: float(value) for key, value in criteria_weights.items()}\n",
    "total_weight = sum([value for key, value in criteria_weights.items()])\n",
    "criteria_weights = {key : value/total_weight for key, value in criteria_weights.items()}\n",
    "array_criteria_weights = [value for key, value in criteria_weights.items()]\n",
    "\n",
    "criteria_weights"
   ]
  },
  {
   "cell_type": "markdown",
   "id": "012f1711",
   "metadata": {},
   "source": [
    "### Data Preview"
   ]
  },
  {
   "cell_type": "code",
   "execution_count": 381,
   "id": "8d6a5807",
   "metadata": {},
   "outputs": [
    {
     "data": {
      "text/html": [
       "<div>\n",
       "<style scoped>\n",
       "    .dataframe tbody tr th:only-of-type {\n",
       "        vertical-align: middle;\n",
       "    }\n",
       "\n",
       "    .dataframe tbody tr th {\n",
       "        vertical-align: top;\n",
       "    }\n",
       "\n",
       "    .dataframe thead th {\n",
       "        text-align: right;\n",
       "    }\n",
       "</style>\n",
       "<table border=\"1\" class=\"dataframe\">\n",
       "  <thead>\n",
       "    <tr style=\"text-align: right;\">\n",
       "      <th></th>\n",
       "      <th>ipk</th>\n",
       "      <th>pendapatan_orang_tua</th>\n",
       "      <th>biaya_hidup</th>\n",
       "      <th>prestasi</th>\n",
       "      <th>keaktifan</th>\n",
       "    </tr>\n",
       "  </thead>\n",
       "  <tbody>\n",
       "    <tr>\n",
       "      <th>2</th>\n",
       "      <td>4.00</td>\n",
       "      <td>2000000</td>\n",
       "      <td>1500000</td>\n",
       "      <td>6</td>\n",
       "      <td>5</td>\n",
       "    </tr>\n",
       "    <tr>\n",
       "      <th>3</th>\n",
       "      <td>4.00</td>\n",
       "      <td>4000000</td>\n",
       "      <td>3000000</td>\n",
       "      <td>3</td>\n",
       "      <td>3</td>\n",
       "    </tr>\n",
       "    <tr>\n",
       "      <th>4</th>\n",
       "      <td>3.50</td>\n",
       "      <td>8000000</td>\n",
       "      <td>6000000</td>\n",
       "      <td>4</td>\n",
       "      <td>2</td>\n",
       "    </tr>\n",
       "    <tr>\n",
       "      <th>5</th>\n",
       "      <td>3.66</td>\n",
       "      <td>1000000</td>\n",
       "      <td>1000000</td>\n",
       "      <td>5</td>\n",
       "      <td>1</td>\n",
       "    </tr>\n",
       "    <tr>\n",
       "      <th>6</th>\n",
       "      <td>3.80</td>\n",
       "      <td>2500000</td>\n",
       "      <td>1000000</td>\n",
       "      <td>6</td>\n",
       "      <td>4</td>\n",
       "    </tr>\n",
       "    <tr>\n",
       "      <th>7</th>\n",
       "      <td>3.70</td>\n",
       "      <td>5000000</td>\n",
       "      <td>3000000</td>\n",
       "      <td>3</td>\n",
       "      <td>5</td>\n",
       "    </tr>\n",
       "    <tr>\n",
       "      <th>8</th>\n",
       "      <td>3.40</td>\n",
       "      <td>1000000</td>\n",
       "      <td>800000</td>\n",
       "      <td>2</td>\n",
       "      <td>5</td>\n",
       "    </tr>\n",
       "    <tr>\n",
       "      <th>9</th>\n",
       "      <td>3.20</td>\n",
       "      <td>3500000</td>\n",
       "      <td>3000000</td>\n",
       "      <td>1</td>\n",
       "      <td>4</td>\n",
       "    </tr>\n",
       "  </tbody>\n",
       "</table>\n",
       "</div>"
      ],
      "text/plain": [
       "    ipk pendapatan_orang_tua biaya_hidup prestasi keaktifan\n",
       "2  4.00              2000000     1500000        6         5\n",
       "3  4.00              4000000     3000000        3         3\n",
       "4  3.50              8000000     6000000        4         2\n",
       "5  3.66              1000000     1000000        5         1\n",
       "6  3.80              2500000     1000000        6         4\n",
       "7  3.70              5000000     3000000        3         5\n",
       "8  3.40              1000000      800000        2         5\n",
       "9  3.20              3500000     3000000        1         4"
      ]
     },
     "execution_count": 381,
     "metadata": {},
     "output_type": "execute_result"
    }
   ],
   "source": [
    "data"
   ]
  },
  {
   "cell_type": "markdown",
   "id": "1bcbce6e",
   "metadata": {},
   "source": [
    "### Get Criteria and Alternative Counts"
   ]
  },
  {
   "cell_type": "code",
   "execution_count": 382,
   "id": "042d8928",
   "metadata": {},
   "outputs": [
    {
     "name": "stdout",
     "output_type": "stream",
     "text": [
      "8 alternatives\n",
      "5 criterias\n"
     ]
    }
   ],
   "source": [
    "shape = data.shape\n",
    "print(str(shape[0]) + \" alternatives\")\n",
    "print(str(shape[1]) + \" criterias\")"
   ]
  },
  {
   "cell_type": "markdown",
   "id": "ac5fcd36",
   "metadata": {},
   "source": [
    "### STEP 1 : Normalization"
   ]
  },
  {
   "cell_type": "code",
   "execution_count": 383,
   "id": "05f1e251",
   "metadata": {},
   "outputs": [],
   "source": [
    "def root_of_square_sum(column):\n",
    "    return math.sqrt(sum(x**2 for x in data[column]))\n",
    "\n",
    "def normalize(values, column):\n",
    "    return values / root_of_square_sum(column)"
   ]
  },
  {
   "cell_type": "code",
   "execution_count": 384,
   "id": "59f8c6f9",
   "metadata": {},
   "outputs": [
    {
     "data": {
      "text/html": [
       "<div>\n",
       "<style scoped>\n",
       "    .dataframe tbody tr th:only-of-type {\n",
       "        vertical-align: middle;\n",
       "    }\n",
       "\n",
       "    .dataframe tbody tr th {\n",
       "        vertical-align: top;\n",
       "    }\n",
       "\n",
       "    .dataframe thead th {\n",
       "        text-align: right;\n",
       "    }\n",
       "</style>\n",
       "<table border=\"1\" class=\"dataframe\">\n",
       "  <thead>\n",
       "    <tr style=\"text-align: right;\">\n",
       "      <th></th>\n",
       "      <th>ipk</th>\n",
       "      <th>pendapatan_orang_tua</th>\n",
       "      <th>biaya_hidup</th>\n",
       "      <th>prestasi</th>\n",
       "      <th>keaktifan</th>\n",
       "    </tr>\n",
       "  </thead>\n",
       "  <tbody>\n",
       "    <tr>\n",
       "      <th>2</th>\n",
       "      <td>0.385659</td>\n",
       "      <td>0.175750</td>\n",
       "      <td>0.182049</td>\n",
       "      <td>0.514496</td>\n",
       "      <td>0.454545</td>\n",
       "    </tr>\n",
       "    <tr>\n",
       "      <th>3</th>\n",
       "      <td>0.385659</td>\n",
       "      <td>0.351500</td>\n",
       "      <td>0.364098</td>\n",
       "      <td>0.257248</td>\n",
       "      <td>0.272727</td>\n",
       "    </tr>\n",
       "    <tr>\n",
       "      <th>4</th>\n",
       "      <td>0.337451</td>\n",
       "      <td>0.703000</td>\n",
       "      <td>0.728196</td>\n",
       "      <td>0.342997</td>\n",
       "      <td>0.181818</td>\n",
       "    </tr>\n",
       "    <tr>\n",
       "      <th>5</th>\n",
       "      <td>0.352878</td>\n",
       "      <td>0.087875</td>\n",
       "      <td>0.121366</td>\n",
       "      <td>0.428746</td>\n",
       "      <td>0.090909</td>\n",
       "    </tr>\n",
       "    <tr>\n",
       "      <th>6</th>\n",
       "      <td>0.366376</td>\n",
       "      <td>0.219687</td>\n",
       "      <td>0.121366</td>\n",
       "      <td>0.514496</td>\n",
       "      <td>0.363636</td>\n",
       "    </tr>\n",
       "    <tr>\n",
       "      <th>7</th>\n",
       "      <td>0.356734</td>\n",
       "      <td>0.439375</td>\n",
       "      <td>0.364098</td>\n",
       "      <td>0.257248</td>\n",
       "      <td>0.454545</td>\n",
       "    </tr>\n",
       "    <tr>\n",
       "      <th>8</th>\n",
       "      <td>0.327810</td>\n",
       "      <td>0.087875</td>\n",
       "      <td>0.097093</td>\n",
       "      <td>0.171499</td>\n",
       "      <td>0.454545</td>\n",
       "    </tr>\n",
       "    <tr>\n",
       "      <th>9</th>\n",
       "      <td>0.308527</td>\n",
       "      <td>0.307562</td>\n",
       "      <td>0.364098</td>\n",
       "      <td>0.085749</td>\n",
       "      <td>0.363636</td>\n",
       "    </tr>\n",
       "  </tbody>\n",
       "</table>\n",
       "</div>"
      ],
      "text/plain": [
       "        ipk  pendapatan_orang_tua  biaya_hidup  prestasi  keaktifan\n",
       "2  0.385659              0.175750     0.182049  0.514496   0.454545\n",
       "3  0.385659              0.351500     0.364098  0.257248   0.272727\n",
       "4  0.337451              0.703000     0.728196  0.342997   0.181818\n",
       "5  0.352878              0.087875     0.121366  0.428746   0.090909\n",
       "6  0.366376              0.219687     0.121366  0.514496   0.363636\n",
       "7  0.356734              0.439375     0.364098  0.257248   0.454545\n",
       "8  0.327810              0.087875     0.097093  0.171499   0.454545\n",
       "9  0.308527              0.307562     0.364098  0.085749   0.363636"
      ]
     },
     "execution_count": 384,
     "metadata": {},
     "output_type": "execute_result"
    }
   ],
   "source": [
    "data = data.apply(pd.to_numeric, errors='coerce')\n",
    "\n",
    "# normalized data \n",
    "for column in data.columns:\n",
    "    data[column] = normalize(data[column], column)\n",
    "    \n",
    "data"
   ]
  },
  {
   "cell_type": "markdown",
   "id": "32184165",
   "metadata": {},
   "source": [
    "### STEP 2 : Weighting"
   ]
  },
  {
   "cell_type": "code",
   "execution_count": 385,
   "id": "8e0b0b8e",
   "metadata": {},
   "outputs": [],
   "source": [
    "def weight(values, column):\n",
    "    return values * criteria_weights[column]"
   ]
  },
  {
   "cell_type": "code",
   "execution_count": 386,
   "id": "53b39451",
   "metadata": {},
   "outputs": [
    {
     "data": {
      "text/html": [
       "<div>\n",
       "<style scoped>\n",
       "    .dataframe tbody tr th:only-of-type {\n",
       "        vertical-align: middle;\n",
       "    }\n",
       "\n",
       "    .dataframe tbody tr th {\n",
       "        vertical-align: top;\n",
       "    }\n",
       "\n",
       "    .dataframe thead th {\n",
       "        text-align: right;\n",
       "    }\n",
       "</style>\n",
       "<table border=\"1\" class=\"dataframe\">\n",
       "  <thead>\n",
       "    <tr style=\"text-align: right;\">\n",
       "      <th></th>\n",
       "      <th>ipk</th>\n",
       "      <th>pendapatan_orang_tua</th>\n",
       "      <th>biaya_hidup</th>\n",
       "      <th>prestasi</th>\n",
       "      <th>keaktifan</th>\n",
       "    </tr>\n",
       "  </thead>\n",
       "  <tbody>\n",
       "    <tr>\n",
       "      <th>2</th>\n",
       "      <td>0.115698</td>\n",
       "      <td>0.052725</td>\n",
       "      <td>0.027307</td>\n",
       "      <td>0.077174</td>\n",
       "      <td>0.045455</td>\n",
       "    </tr>\n",
       "    <tr>\n",
       "      <th>3</th>\n",
       "      <td>0.115698</td>\n",
       "      <td>0.105450</td>\n",
       "      <td>0.054615</td>\n",
       "      <td>0.038587</td>\n",
       "      <td>0.027273</td>\n",
       "    </tr>\n",
       "    <tr>\n",
       "      <th>4</th>\n",
       "      <td>0.101235</td>\n",
       "      <td>0.210900</td>\n",
       "      <td>0.109229</td>\n",
       "      <td>0.051450</td>\n",
       "      <td>0.018182</td>\n",
       "    </tr>\n",
       "    <tr>\n",
       "      <th>5</th>\n",
       "      <td>0.105863</td>\n",
       "      <td>0.026362</td>\n",
       "      <td>0.018205</td>\n",
       "      <td>0.064312</td>\n",
       "      <td>0.009091</td>\n",
       "    </tr>\n",
       "    <tr>\n",
       "      <th>6</th>\n",
       "      <td>0.109913</td>\n",
       "      <td>0.065906</td>\n",
       "      <td>0.018205</td>\n",
       "      <td>0.077174</td>\n",
       "      <td>0.036364</td>\n",
       "    </tr>\n",
       "    <tr>\n",
       "      <th>7</th>\n",
       "      <td>0.107020</td>\n",
       "      <td>0.131812</td>\n",
       "      <td>0.054615</td>\n",
       "      <td>0.038587</td>\n",
       "      <td>0.045455</td>\n",
       "    </tr>\n",
       "    <tr>\n",
       "      <th>8</th>\n",
       "      <td>0.098343</td>\n",
       "      <td>0.026362</td>\n",
       "      <td>0.014564</td>\n",
       "      <td>0.025725</td>\n",
       "      <td>0.045455</td>\n",
       "    </tr>\n",
       "    <tr>\n",
       "      <th>9</th>\n",
       "      <td>0.092558</td>\n",
       "      <td>0.092269</td>\n",
       "      <td>0.054615</td>\n",
       "      <td>0.012862</td>\n",
       "      <td>0.036364</td>\n",
       "    </tr>\n",
       "  </tbody>\n",
       "</table>\n",
       "</div>"
      ],
      "text/plain": [
       "        ipk  pendapatan_orang_tua  biaya_hidup  prestasi  keaktifan\n",
       "2  0.115698              0.052725     0.027307  0.077174   0.045455\n",
       "3  0.115698              0.105450     0.054615  0.038587   0.027273\n",
       "4  0.101235              0.210900     0.109229  0.051450   0.018182\n",
       "5  0.105863              0.026362     0.018205  0.064312   0.009091\n",
       "6  0.109913              0.065906     0.018205  0.077174   0.036364\n",
       "7  0.107020              0.131812     0.054615  0.038587   0.045455\n",
       "8  0.098343              0.026362     0.014564  0.025725   0.045455\n",
       "9  0.092558              0.092269     0.054615  0.012862   0.036364"
      ]
     },
     "execution_count": 386,
     "metadata": {},
     "output_type": "execute_result"
    }
   ],
   "source": [
    "for column in data.columns:\n",
    "    data[column] = weight(data[column], column)\n",
    "    \n",
    "data"
   ]
  },
  {
   "cell_type": "markdown",
   "id": "000b57b6",
   "metadata": {},
   "source": [
    "### STEP 3 : Generate Concordance Matrix"
   ]
  },
  {
   "cell_type": "code",
   "execution_count": 387,
   "id": "1d5b98cd",
   "metadata": {},
   "outputs": [],
   "source": [
    "def generate_concordance_matrix(data):\n",
    "    shape = data.shape[0]\n",
    "    matrix = np.zeros((shape, shape))\n",
    "    \n",
    "    concordance_sets = {}\n",
    "    discordance_sets = {}\n",
    "    \n",
    "    for index_i, row_i in data.iterrows():\n",
    "        for index_j, row_j in data.iterrows():\n",
    "            if index_i == index_j:\n",
    "                continue\n",
    "            cell_set_total = 0\n",
    "            cset = []            \n",
    "            dset = []\n",
    "            for value in range(len(row_i)):\n",
    "                if ((criteria_types[value] == 'b' and row_i[value] >= row_j[value]) | (criteria_types[value] == 'c' and row_i[value] < row_j[value])):\n",
    "                    cell_set_total += array_criteria_weights[value]\n",
    "                    cset.append(value)\n",
    "                else:\n",
    "                    dset.append(value)\n",
    "            concordance_sets[f\"C-{index_i-1}{index_j-1}\"] = cset\n",
    "            discordance_sets[f\"D-{index_i-1}{index_j-1}\"] = dset\n",
    "            matrix[index_i-2][index_j-2] = cell_set_total        \n",
    "    return matrix, concordance_sets, discordance_sets"
   ]
  },
  {
   "cell_type": "code",
   "execution_count": 388,
   "id": "1915c709",
   "metadata": {},
   "outputs": [
    {
     "data": {
      "text/plain": [
       "array([[0.  , 0.85, 0.85, 0.7 , 1.  , 0.85, 0.7 , 0.85],\n",
       "       [0.45, 0.  , 0.7 , 0.55, 0.45, 0.9 , 0.6 , 0.6 ],\n",
       "       [0.15, 0.3 , 0.  , 0.25, 0.15, 0.3 , 0.6 , 0.6 ],\n",
       "       [0.3 , 0.45, 0.75, 0.  , 0.45, 0.45, 0.6 , 0.75],\n",
       "       [0.15, 0.55, 0.85, 0.7 , 0.  , 0.75, 0.6 , 0.85],\n",
       "       [0.25, 0.4 , 0.7 , 0.55, 0.25, 0.  , 0.7 , 0.7 ],\n",
       "       [0.4 , 0.4 , 0.4 , 0.1 , 0.4 , 0.4 , 0.  , 0.85],\n",
       "       [0.15, 0.55, 0.4 , 0.25, 0.25, 0.45, 0.15, 0.  ]])"
      ]
     },
     "execution_count": 388,
     "metadata": {},
     "output_type": "execute_result"
    }
   ],
   "source": [
    "concordance_matrix, concordance_sets, discordance_sets = generate_concordance_matrix(data)\n",
    "concordance_matrix"
   ]
  },
  {
   "cell_type": "markdown",
   "id": "b3c443cc",
   "metadata": {},
   "source": [
    "### STEP 4 : Generate Discordance Matrix"
   ]
  },
  {
   "cell_type": "markdown",
   "id": "bdb01c12",
   "metadata": {},
   "source": [
    "- Concordance Sets"
   ]
  },
  {
   "cell_type": "code",
   "execution_count": 389,
   "id": "837f6ac6",
   "metadata": {},
   "outputs": [
    {
     "data": {
      "text/plain": [
       "{'C-12': [0, 1, 3, 4],\n",
       " 'C-13': [0, 1, 3, 4],\n",
       " 'C-14': [0, 2, 3, 4],\n",
       " 'C-15': [0, 1, 2, 3, 4],\n",
       " 'C-16': [0, 1, 3, 4],\n",
       " 'C-17': [0, 2, 3, 4],\n",
       " 'C-18': [0, 1, 3, 4],\n",
       " 'C-21': [0, 2],\n",
       " 'C-23': [0, 1, 4],\n",
       " 'C-24': [0, 2, 4],\n",
       " 'C-25': [0, 2],\n",
       " 'C-26': [0, 1, 2, 3],\n",
       " 'C-27': [0, 2, 3],\n",
       " 'C-28': [0, 2, 3],\n",
       " 'C-31': [2],\n",
       " 'C-32': [2, 3],\n",
       " 'C-34': [2, 4],\n",
       " 'C-35': [2],\n",
       " 'C-36': [2, 3],\n",
       " 'C-37': [0, 2, 3],\n",
       " 'C-38': [0, 2, 3],\n",
       " 'C-41': [1],\n",
       " 'C-42': [1, 3],\n",
       " 'C-43': [0, 1, 3],\n",
       " 'C-45': [1, 2],\n",
       " 'C-46': [1, 3],\n",
       " 'C-47': [0, 2, 3],\n",
       " 'C-48': [0, 1, 3],\n",
       " 'C-51': [3],\n",
       " 'C-52': [1, 3, 4],\n",
       " 'C-53': [0, 1, 3, 4],\n",
       " 'C-54': [0, 2, 3, 4],\n",
       " 'C-56': [0, 1, 3],\n",
       " 'C-57': [0, 2, 3],\n",
       " 'C-58': [0, 1, 3, 4],\n",
       " 'C-61': [2, 4],\n",
       " 'C-62': [2, 3, 4],\n",
       " 'C-63': [0, 1, 4],\n",
       " 'C-64': [0, 2, 4],\n",
       " 'C-65': [2, 4],\n",
       " 'C-67': [0, 2, 3, 4],\n",
       " 'C-68': [0, 2, 3, 4],\n",
       " 'C-71': [1, 4],\n",
       " 'C-72': [1, 4],\n",
       " 'C-73': [1, 4],\n",
       " 'C-74': [4],\n",
       " 'C-75': [1, 4],\n",
       " 'C-76': [1, 4],\n",
       " 'C-78': [0, 1, 3, 4],\n",
       " 'C-81': [2],\n",
       " 'C-82': [1, 2, 4],\n",
       " 'C-83': [1, 4],\n",
       " 'C-84': [2, 4],\n",
       " 'C-85': [2, 4],\n",
       " 'C-86': [1, 2],\n",
       " 'C-87': [2]}"
      ]
     },
     "execution_count": 389,
     "metadata": {},
     "output_type": "execute_result"
    }
   ],
   "source": [
    "concordance_sets"
   ]
  },
  {
   "cell_type": "code",
   "execution_count": 390,
   "id": "3838728c",
   "metadata": {},
   "outputs": [
    {
     "data": {
      "text/plain": [
       "{'D-12': [2],\n",
       " 'D-13': [2],\n",
       " 'D-14': [1],\n",
       " 'D-15': [],\n",
       " 'D-16': [2],\n",
       " 'D-17': [1],\n",
       " 'D-18': [2],\n",
       " 'D-21': [1, 3, 4],\n",
       " 'D-23': [2, 3],\n",
       " 'D-24': [1, 3],\n",
       " 'D-25': [1, 3, 4],\n",
       " 'D-26': [4],\n",
       " 'D-27': [1, 4],\n",
       " 'D-28': [1, 4],\n",
       " 'D-31': [0, 1, 3, 4],\n",
       " 'D-32': [0, 1, 4],\n",
       " 'D-34': [0, 1, 3],\n",
       " 'D-35': [0, 1, 3, 4],\n",
       " 'D-36': [0, 1, 4],\n",
       " 'D-37': [1, 4],\n",
       " 'D-38': [1, 4],\n",
       " 'D-41': [0, 2, 3, 4],\n",
       " 'D-42': [0, 2, 4],\n",
       " 'D-43': [2, 4],\n",
       " 'D-45': [0, 3, 4],\n",
       " 'D-46': [0, 2, 4],\n",
       " 'D-47': [1, 4],\n",
       " 'D-48': [2, 4],\n",
       " 'D-51': [0, 1, 2, 4],\n",
       " 'D-52': [0, 2],\n",
       " 'D-53': [2],\n",
       " 'D-54': [1],\n",
       " 'D-56': [2, 4],\n",
       " 'D-57': [1, 4],\n",
       " 'D-58': [2],\n",
       " 'D-61': [0, 1, 3],\n",
       " 'D-62': [0, 1],\n",
       " 'D-63': [2, 3],\n",
       " 'D-64': [1, 3],\n",
       " 'D-65': [0, 1, 3],\n",
       " 'D-67': [1],\n",
       " 'D-68': [1],\n",
       " 'D-71': [0, 2, 3],\n",
       " 'D-72': [0, 2, 3],\n",
       " 'D-73': [0, 2, 3],\n",
       " 'D-74': [0, 1, 2, 3],\n",
       " 'D-75': [0, 2, 3],\n",
       " 'D-76': [0, 2, 3],\n",
       " 'D-78': [2],\n",
       " 'D-81': [0, 1, 3, 4],\n",
       " 'D-82': [0, 3],\n",
       " 'D-83': [0, 2, 3],\n",
       " 'D-84': [0, 1, 3],\n",
       " 'D-85': [0, 1, 3],\n",
       " 'D-86': [0, 3, 4],\n",
       " 'D-87': [0, 1, 3, 4]}"
      ]
     },
     "execution_count": 390,
     "metadata": {},
     "output_type": "execute_result"
    }
   ],
   "source": [
    "discordance_sets"
   ]
  },
  {
   "cell_type": "code",
   "execution_count": 391,
   "id": "6f1b6395",
   "metadata": {},
   "outputs": [],
   "source": [
    "def generate_discordance_matrix(data):\n",
    "    shape = data.shape[0]\n",
    "    matrix = np.zeros((shape, shape))\n",
    "    numpy_data_values = data.values\n",
    "    \n",
    "    for index_i, row_i in data.iterrows():\n",
    "        for index_j, row_j in data.iterrows():\n",
    "            if index_i == index_j:\n",
    "                continue\n",
    "            cell_value = 0\n",
    "            nominator = [\n",
    "                abs(numpy_data_values[index_i - 2][idx] - numpy_data_values[index_j - 2][idx])\n",
    "                for idx in discordance_sets[f\"D-{index_i-1}{index_j-1}\"]\n",
    "            ]\n",
    "\n",
    "            denominator = [\n",
    "                abs(numpy_data_values[index_i-2][idx] - numpy_data_values[index_j-2][idx])\n",
    "                for idx in range(numpy_data_values.shape[1])\n",
    "            ]\n",
    "                \n",
    "            if (len(nominator) == 0):\n",
    "                matrix[index_i-2][index_j-2] = 0\n",
    "            else:\n",
    "                matrix[index_i-2][index_j-2] = max(nominator)/max(denominator)\n",
    "            \n",
    "    return matrix               "
   ]
  },
  {
   "cell_type": "code",
   "execution_count": 392,
   "id": "3f1a6cba",
   "metadata": {},
   "outputs": [
    {
     "data": {
      "text/plain": [
       "array([[0.        , 0.51792067, 0.51792067, 0.72496838, 0.        ,\n",
       "        0.34528045, 0.51239464, 0.42460764],\n",
       "       [1.        , 0.        , 0.51792067, 1.        , 1.        ,\n",
       "        0.68968525, 1.        , 0.51239464],\n",
       "       [1.        , 1.        , 0.        , 1.        , 1.        ,\n",
       "        1.        , 1.        , 1.        ],\n",
       "       [1.        , 0.46037393, 0.49325779, 0.        , 0.68968525,\n",
       "        0.34528045, 0.94237606, 0.55244872],\n",
       "       [1.        , 0.92074787, 0.62778264, 1.        , 0.        ,\n",
       "        0.55244872, 0.76859195, 0.56614352],\n",
       "       [1.        , 1.        , 0.6905609 , 1.        , 1.        ,\n",
       "        0.        , 1.        , 1.        ],\n",
       "       [1.        , 0.50641133, 0.5129881 , 1.        , 1.        ,\n",
       "        0.37980849, 0.        , 0.60769359],\n",
       "       [1.        , 1.        , 0.46037393, 1.        , 1.        ,\n",
       "        0.65054025, 1.        , 0.        ]])"
      ]
     },
     "execution_count": 392,
     "metadata": {},
     "output_type": "execute_result"
    }
   ],
   "source": [
    "discordance_matrix = generate_discordance_matrix(data)\n",
    "discordance_matrix "
   ]
  },
  {
   "cell_type": "markdown",
   "id": "fbd70930",
   "metadata": {},
   "source": [
    "### STEP 5 : Calculate Concordance & Discordance Threshold"
   ]
  },
  {
   "cell_type": "code",
   "execution_count": 393,
   "id": "b341edf1",
   "metadata": {},
   "outputs": [],
   "source": [
    "def calculate_threshold(matrix):\n",
    "    threshold = 0\n",
    "    for i in range(len(matrix)):\n",
    "        for j in range(len(matrix)):\n",
    "            if (i == j):\n",
    "                continue\n",
    "            threshold += matrix[i][j]\n",
    "            \n",
    "    return threshold / (matrix.shape[0] * (matrix.shape[0] - 1))"
   ]
  },
  {
   "cell_type": "code",
   "execution_count": 394,
   "id": "667767a5",
   "metadata": {},
   "outputs": [
    {
     "data": {
      "text/plain": [
       "0.5232142857142855"
      ]
     },
     "execution_count": 394,
     "metadata": {},
     "output_type": "execute_result"
    }
   ],
   "source": [
    "concordance_threshold = calculate_threshold(concordance_matrix)\n",
    "concordance_threshold"
   ]
  },
  {
   "cell_type": "code",
   "execution_count": 395,
   "id": "facc75ed",
   "metadata": {},
   "outputs": [
    {
     "data": {
      "text/plain": [
       "0.7766179732847552"
      ]
     },
     "execution_count": 395,
     "metadata": {},
     "output_type": "execute_result"
    }
   ],
   "source": [
    "discordance_threshold = calculate_threshold(discordance_matrix)\n",
    "discordance_threshold"
   ]
  },
  {
   "cell_type": "code",
   "execution_count": 396,
   "id": "24e05ea0",
   "metadata": {},
   "outputs": [
    {
     "data": {
      "text/plain": [
       "array([[0.  , 0.85, 0.85, 0.7 , 1.  , 0.85, 0.7 , 0.85],\n",
       "       [0.45, 0.  , 0.7 , 0.55, 0.45, 0.9 , 0.6 , 0.6 ],\n",
       "       [0.15, 0.3 , 0.  , 0.25, 0.15, 0.3 , 0.6 , 0.6 ],\n",
       "       [0.3 , 0.45, 0.75, 0.  , 0.45, 0.45, 0.6 , 0.75],\n",
       "       [0.15, 0.55, 0.85, 0.7 , 0.  , 0.75, 0.6 , 0.85],\n",
       "       [0.25, 0.4 , 0.7 , 0.55, 0.25, 0.  , 0.7 , 0.7 ],\n",
       "       [0.4 , 0.4 , 0.4 , 0.1 , 0.4 , 0.4 , 0.  , 0.85],\n",
       "       [0.15, 0.55, 0.4 , 0.25, 0.25, 0.45, 0.15, 0.  ]])"
      ]
     },
     "execution_count": 396,
     "metadata": {},
     "output_type": "execute_result"
    }
   ],
   "source": [
    "concordance_matrix"
   ]
  },
  {
   "cell_type": "code",
   "execution_count": 397,
   "id": "1a25fc82",
   "metadata": {},
   "outputs": [
    {
     "data": {
      "text/plain": [
       "array([[0.        , 0.51792067, 0.51792067, 0.72496838, 0.        ,\n",
       "        0.34528045, 0.51239464, 0.42460764],\n",
       "       [1.        , 0.        , 0.51792067, 1.        , 1.        ,\n",
       "        0.68968525, 1.        , 0.51239464],\n",
       "       [1.        , 1.        , 0.        , 1.        , 1.        ,\n",
       "        1.        , 1.        , 1.        ],\n",
       "       [1.        , 0.46037393, 0.49325779, 0.        , 0.68968525,\n",
       "        0.34528045, 0.94237606, 0.55244872],\n",
       "       [1.        , 0.92074787, 0.62778264, 1.        , 0.        ,\n",
       "        0.55244872, 0.76859195, 0.56614352],\n",
       "       [1.        , 1.        , 0.6905609 , 1.        , 1.        ,\n",
       "        0.        , 1.        , 1.        ],\n",
       "       [1.        , 0.50641133, 0.5129881 , 1.        , 1.        ,\n",
       "        0.37980849, 0.        , 0.60769359],\n",
       "       [1.        , 1.        , 0.46037393, 1.        , 1.        ,\n",
       "        0.65054025, 1.        , 0.        ]])"
      ]
     },
     "execution_count": 397,
     "metadata": {},
     "output_type": "execute_result"
    }
   ],
   "source": [
    "discordance_matrix"
   ]
  },
  {
   "cell_type": "markdown",
   "id": "27ece6ed",
   "metadata": {},
   "source": [
    "### STEP 6 : Input Concordance & Discordance to Respective Threshold"
   ]
  },
  {
   "cell_type": "code",
   "execution_count": 398,
   "id": "5277372d",
   "metadata": {},
   "outputs": [],
   "source": [
    "def calculate_preaggregate_matrix(matrix, threshold):\n",
    "    shape = matrix.shape[0]\n",
    "    f_matrix = np.full((shape, shape), np.nan)\n",
    "        \n",
    "    for i in range(len(matrix)):\n",
    "        for j in range(len(matrix)):\n",
    "            if (i == j):\n",
    "                continue\n",
    "            f_matrix[i][j] = 1 if matrix[i][j] >= threshold else 0\n",
    "    \n",
    "    return f_matrix"
   ]
  },
  {
   "cell_type": "code",
   "execution_count": 399,
   "id": "55e09bd4",
   "metadata": {},
   "outputs": [
    {
     "data": {
      "text/plain": [
       "array([[nan,  1.,  1.,  1.,  1.,  1.,  1.,  1.],\n",
       "       [ 0., nan,  1.,  1.,  0.,  1.,  1.,  1.],\n",
       "       [ 0.,  0., nan,  0.,  0.,  0.,  1.,  1.],\n",
       "       [ 0.,  0.,  1., nan,  0.,  0.,  1.,  1.],\n",
       "       [ 0.,  1.,  1.,  1., nan,  1.,  1.,  1.],\n",
       "       [ 0.,  0.,  1.,  1.,  0., nan,  1.,  1.],\n",
       "       [ 0.,  0.,  0.,  0.,  0.,  0., nan,  1.],\n",
       "       [ 0.,  1.,  0.,  0.,  0.,  0.,  0., nan]])"
      ]
     },
     "execution_count": 399,
     "metadata": {},
     "output_type": "execute_result"
    }
   ],
   "source": [
    "f_concordance = calculate_preaggregate_matrix(concordance_matrix, concordance_threshold)\n",
    "f_concordance"
   ]
  },
  {
   "cell_type": "code",
   "execution_count": 400,
   "id": "938cf3e8",
   "metadata": {},
   "outputs": [
    {
     "data": {
      "text/plain": [
       "array([[nan,  0.,  0.,  0.,  0.,  0.,  0.,  0.],\n",
       "       [ 1., nan,  0.,  1.,  1.,  0.,  1.,  0.],\n",
       "       [ 1.,  1., nan,  1.,  1.,  1.,  1.,  1.],\n",
       "       [ 1.,  0.,  0., nan,  0.,  0.,  1.,  0.],\n",
       "       [ 1.,  1.,  0.,  1., nan,  0.,  0.,  0.],\n",
       "       [ 1.,  1.,  0.,  1.,  1., nan,  1.,  1.],\n",
       "       [ 1.,  0.,  0.,  1.,  1.,  0., nan,  0.],\n",
       "       [ 1.,  1.,  0.,  1.,  1.,  0.,  1., nan]])"
      ]
     },
     "execution_count": 400,
     "metadata": {},
     "output_type": "execute_result"
    }
   ],
   "source": [
    "f_discordance = calculate_preaggregate_matrix(discordance_matrix, discordance_threshold)\n",
    "f_discordance"
   ]
  },
  {
   "cell_type": "markdown",
   "id": "65ecbca5",
   "metadata": {},
   "source": [
    "### STEP 7 : Concordance & Discordance Aggregation to form Dominance Matrix"
   ]
  },
  {
   "cell_type": "code",
   "execution_count": 401,
   "id": "d4bc6748",
   "metadata": {},
   "outputs": [
    {
     "data": {
      "text/plain": [
       "array([[nan,  0.,  0.,  0.,  0.,  0.,  0.,  0.],\n",
       "       [ 0., nan,  0.,  1.,  0.,  0.,  1.,  0.],\n",
       "       [ 0.,  0., nan,  0.,  0.,  0.,  1.,  1.],\n",
       "       [ 0.,  0.,  0., nan,  0.,  0.,  1.,  0.],\n",
       "       [ 0.,  1.,  0.,  1., nan,  0.,  0.,  0.],\n",
       "       [ 0.,  0.,  0.,  1.,  0., nan,  1.,  1.],\n",
       "       [ 0.,  0.,  0.,  0.,  0.,  0., nan,  0.],\n",
       "       [ 0.,  1.,  0.,  0.,  0.,  0.,  0., nan]])"
      ]
     },
     "execution_count": 401,
     "metadata": {},
     "output_type": "execute_result"
    }
   ],
   "source": [
    "dominance_matrix = f_concordance * f_discordance\n",
    "dominance_matrix"
   ]
  },
  {
   "cell_type": "markdown",
   "id": "4af8e629",
   "metadata": {},
   "source": [
    "### STEP 8 : Rank the Alternatives"
   ]
  },
  {
   "cell_type": "markdown",
   "id": "d88f6d5e",
   "metadata": {},
   "source": [
    "- Remove Dominated Alternatives where column have at least one cell with value == 1"
   ]
  },
  {
   "cell_type": "code",
   "execution_count": 402,
   "id": "0b761897",
   "metadata": {},
   "outputs": [],
   "source": [
    "def remove_dominated_alternatives(dominance_matrix):\n",
    "    dominance_matrix = np.where(np.isnan(dominance_matrix), 0, dominance_matrix)\n",
    "    dominance_matrix_binary = np.where(dominance_matrix > 0, 1, dominance_matrix)\n",
    "\n",
    "    eliminate_columns = np.any(dominance_matrix_binary == 1, axis=0)\n",
    "\n",
    "    retained_indices = np.where(~eliminate_columns)[0]\n",
    "\n",
    "    dominance_matrix_cleaned = np.delete(dominance_matrix, np.where(eliminate_columns)[0], axis=1)\n",
    "\n",
    "    return dominance_matrix_cleaned, retained_indices"
   ]
  },
  {
   "cell_type": "code",
   "execution_count": 403,
   "id": "4d2ad94a",
   "metadata": {},
   "outputs": [
    {
     "name": "stdout",
     "output_type": "stream",
     "text": [
      "Dominant Alternative Matrix :  [[0. 0. 0. 0.]\n",
      " [0. 0. 0. 0.]\n",
      " [0. 0. 0. 0.]\n",
      " [0. 0. 0. 0.]\n",
      " [0. 0. 0. 0.]\n",
      " [0. 0. 0. 0.]\n",
      " [0. 0. 0. 0.]\n",
      " [0. 0. 0. 0.]]\n",
      "Alternatives :  [0 2 4 5]\n"
     ]
    }
   ],
   "source": [
    "dominant_alt_matrix, alt_indices = remove_dominated_alternatives(dominance_matrix)\n",
    "print(\"Dominant Alternative Matrix : \", dominant_alt_matrix)\n",
    "print(\"Alternatives : \", alt_indices)"
   ]
  },
  {
   "cell_type": "markdown",
   "id": "22548349",
   "metadata": {},
   "source": [
    "- For the filtered (dominant) alternatives, sort the rank according to the sum of difference between the corresponding cell of concordance and discordance matrix"
   ]
  },
  {
   "cell_type": "code",
   "execution_count": 404,
   "id": "4f221866",
   "metadata": {},
   "outputs": [],
   "source": [
    "def calculate_rank(indices, c_matrix, d_matrix):\n",
    "    ranks = {}\n",
    "\n",
    "    for i in range(len(indices)):\n",
    "        score = 0\n",
    "        for j in range(c_matrix.shape[0]):\n",
    "            score += (c_matrix[i][j] - d_matrix[i][j])\n",
    "        ranks[i] = score\n",
    "\n",
    "    sorted_ranks = dict(sorted(ranks.items(), key=lambda item: item[1], reverse=True))\n",
    "\n",
    "    return sorted_ranks"
   ]
  },
  {
   "cell_type": "code",
   "execution_count": 405,
   "id": "6f4b0984",
   "metadata": {},
   "outputs": [
    {
     "name": "stdout",
     "output_type": "stream",
     "text": [
      "Alternative 1 is ranked number 1 with preference score : 2.7569075465560617\n",
      "Alternative 4 is ranked number 2 with preference score : -0.7334222039904296\n",
      "Alternative 2 is ranked number 3 with preference score : -1.470000563132185\n",
      "Alternative 3 is ranked number 4 with preference score : -4.65\n"
     ]
    }
   ],
   "source": [
    "result = calculate_rank(alt_indices, concordance_matrix, discordance_matrix)\n",
    "\n",
    "for rank, (alternative, score) in enumerate(result.items(), start=1):\n",
    "    print(f\"Alternative {alternative + 1} is ranked number {rank} with preference score : {score}\")"
   ]
  }
 ],
 "metadata": {
  "kernelspec": {
   "display_name": "Python 3 (ipykernel)",
   "language": "python",
   "name": "python3"
  },
  "language_info": {
   "codemirror_mode": {
    "name": "ipython",
    "version": 3
   },
   "file_extension": ".py",
   "mimetype": "text/x-python",
   "name": "python",
   "nbconvert_exporter": "python",
   "pygments_lexer": "ipython3",
   "version": "3.11.4"
  }
 },
 "nbformat": 4,
 "nbformat_minor": 5
}
